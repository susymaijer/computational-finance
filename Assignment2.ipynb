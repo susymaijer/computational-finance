{
 "cells": [
  {
   "cell_type": "markdown",
   "metadata": {
    "colab_type": "text",
    "id": "GkiQACBCeT30"
   },
   "source": [
    "## Part 1: Basic Option Valuation"
   ]
  },
  {
   "cell_type": "code",
   "execution_count": 0,
   "metadata": {
    "colab": {},
    "colab_type": "code",
    "id": "chbpeyZFeT34"
   },
   "outputs": [],
   "source": [
    "import math\n",
    "import random\n",
    "import matplotlib.pyplot as plt\n",
    "import numpy as np\n",
    "from scipy.stats.mstats import gmean\n",
    "from scipy.stats import norm\n",
    "from tqdm import tqdm as _tqdm\n",
    "\n",
    "import seaborn as sns\n",
    "sns.set(color_codes=True)\n",
    "\n",
    "def tqdm(*args, **kwargs):\n",
    "    return _tqdm(*args, **kwargs, mininterval=1)"
   ]
  },
  {
   "cell_type": "code",
   "execution_count": 0,
   "metadata": {
    "colab": {},
    "colab_type": "code",
    "id": "5VFVqrWteT4B"
   },
   "outputs": [],
   "source": [
    "def montecarlo_simulation_put(S, v, r, T, K, sim, seed=None):\n",
    "    \"\"\"\n",
    "    Run Monte Carlo simulation to estimate put options price.\n",
    "    \n",
    "    S: price at time t\n",
    "    v: volatility\n",
    "    r: risk-free-rate\n",
    "    T: annualised expiry time (in years)\n",
    "    K: strike price\n",
    "    sim: amount of simulations per estimated option price\n",
    "    seed: default = None\n",
    "    \"\"\"\n",
    "    if seed is not None:\n",
    "        np.random.seed(seed)\n",
    "    \n",
    "    # Compute stock prices at time T using geometric Brownian motion\n",
    "    prices = S * np.exp((r - 0.5 * v**2) * T + v * np.sqrt(T) * np.random.normal(size=sim))\n",
    "    \n",
    "    # Determine payoffs\n",
    "    payoffs = K - prices\n",
    "    payoffs[payoffs < 0] = 0\n",
    "    \n",
    "    # Compute MC estimate and standard error\n",
    "    price = math.exp(-r * T) * payoffs.mean()\n",
    "    std_error = payoffs.std() / math.sqrt(sim)\n",
    "    \n",
    "    return price, std_error"
   ]
  },
  {
   "cell_type": "markdown",
   "metadata": {
    "colab_type": "text",
    "id": "tK0R9km0eT4H"
   },
   "source": [
    "#### Subsection 1: Compute the price using the Monte Carlo method"
   ]
  },
  {
   "cell_type": "code",
   "execution_count": 3,
   "metadata": {
    "colab": {
     "base_uri": "https://localhost:8080/",
     "height": 51
    },
    "colab_type": "code",
    "id": "tsru6nc-eT4K",
    "outputId": "0d670e7a-8225-4494-8d8e-1eb4849f2d16"
   },
   "outputs": [
    {
     "name": "stdout",
     "output_type": "stream",
     "text": [
      "Simulated price:  4.781851338643347\n",
      "Standard error: 0.008469537563548964\n"
     ]
    }
   ],
   "source": [
    "S = 100\n",
    "v = 0.2\n",
    "r = 0.06\n",
    "T = 1\n",
    "K = 99\n",
    "sim = 1000000\n",
    "price, std_error = montecarlo_simulation_put(S, v, r, T, K, sim)\n",
    "\n",
    "print('Simulated price: ', price)\n",
    "print('Standard error:', std_error)"
   ]
  },
  {
   "cell_type": "code",
   "execution_count": 4,
   "metadata": {
    "colab": {
     "base_uri": "https://localhost:8080/",
     "height": 34
    },
    "colab_type": "code",
    "id": "YF-4P1ZpLhZu",
    "outputId": "352f8b5e-70af-492a-8487-ebaf9109250c"
   },
   "outputs": [
    {
     "name": "stdout",
     "output_type": "stream",
     "text": [
      "95% Interval: [4.7653, 4.7985]\n"
     ]
    }
   ],
   "source": [
    "lower_limit = price - 1.96 * std_error\n",
    "upper_limit = price + 1.96 * std_error\n",
    "\n",
    "print(\"95%% Interval: [%.4f, %.4f]\" %(lower_limit, upper_limit))"
   ]
  },
  {
   "cell_type": "code",
   "execution_count": 5,
   "metadata": {
    "colab": {
     "base_uri": "https://localhost:8080/",
     "height": 34
    },
    "colab_type": "code",
    "id": "eVaaJGKN3QHV",
    "outputId": "70a6807a-52ff-46c8-e7e8-ede5983e8ce5"
   },
   "outputs": [
    {
     "name": "stderr",
     "output_type": "stream",
     "text": [
      "100%|██████████| 10000/10000 [01:30<00:00, 111.11it/s]\n"
     ]
    }
   ],
   "source": [
    "sim = 100000\n",
    "\n",
    "mc_estimates = []\n",
    "\n",
    "for i in tqdm(range(10000)):\n",
    "    price, _ = montecarlo_simulation_put(S, v, r, T, K, sim)\n",
    "    mc_estimates.append(price)"
   ]
  },
  {
   "cell_type": "code",
   "execution_count": 6,
   "metadata": {
    "colab": {
     "base_uri": "https://localhost:8080/",
     "height": 459
    },
    "colab_type": "code",
    "id": "K4c2uKinMPit",
    "outputId": "588a4a44-d427-4ddf-e76d-7af3a41fe493"
   },
   "outputs": [
    {
     "name": "stderr",
     "output_type": "stream",
     "text": [
      "/usr/local/lib/python3.6/dist-packages/matplotlib/axes/_axes.py:6521: MatplotlibDeprecationWarning: \n",
      "The 'normed' kwarg was deprecated in Matplotlib 2.1 and will be removed in 3.1. Use 'density' instead.\n",
      "  alternative=\"'density'\", removal=\"3.1\")\n"
     ]
    },
    {
     "data": {
      "image/png": "[encoded data removed]",
      "text/plain": [
       "<Figure size 720x432 with 1 Axes>"
      ]
     },
     "metadata": {
      "tags": []
     },
     "output_type": "display_data"
    },
    {
     "name": "stdout",
     "output_type": "stream",
     "text": [
      "Mean:  4.778838649882996\n",
      "Stdev:  0.02518796929228008\n"
     ]
    }
   ],
   "source": [
    "mc_estimates = np.array(mc_estimates)\n",
    "\n",
    "plt.figure(figsize=(10, 6))\n",
    "sns.distplot(np.array(mc_estimates), hist=True, rug=True)\n",
    "plt.savefig('mc_histogram.png', dpi=200)\n",
    "plt.show()\n",
    "\n",
    "print(\"Mean: \", mc_estimates.mean())\n",
    "print(\"Stdev: \", mc_estimates.std())"
   ]
  },
  {
   "cell_type": "markdown",
   "metadata": {
    "colab_type": "text",
    "id": "RdXCHnoBeT4W"
   },
   "source": [
    "#### Subsection 2: Carry out convergence studies"
   ]
  },
  {
   "cell_type": "code",
   "execution_count": 46,
   "metadata": {
    "colab": {
     "base_uri": "https://localhost:8080/",
     "height": 34
    },
    "colab_type": "code",
    "id": "YhuIY-jgeT4Z",
    "outputId": "e5568e6a-f1cf-4fce-a2b3-df042dc5b491"
   },
   "outputs": [
    {
     "name": "stderr",
     "output_type": "stream",
     "text": [
      "100%|██████████| 5000/5000 [26:27<00:00,  1.78it/s]\n"
     ]
    }
   ],
   "source": [
    "# carry out simulation for increasing number of simulations and save results\n",
    "S = 100\n",
    "v = 0.2\n",
    "r = 0.06\n",
    "T = 1\n",
    "K = 99\n",
    "sim_max = 5000000\n",
    "sim_steps = np.arange(0, sim_max+1, 1000)[1:]\n",
    "# sim_stes = range(10, sim_max)\n",
    "\n",
    "# run monte carlo simulation for different amount of simulations\n",
    "prices = []\n",
    "std_errors = []\n",
    "for i in tqdm(sim_steps):\n",
    "    price, std_error = montecarlo_simulation_put(S, v, r, T, K, i)\n",
    "    prices.append(price)\n",
    "    std_errors.append(std_error)"
   ]
  },
  {
   "cell_type": "code",
   "execution_count": 50,
   "metadata": {
    "colab": {
     "base_uri": "https://localhost:8080/",
     "height": 1411
    },
    "colab_type": "code",
    "id": "35Fl3JI7eT4m",
    "outputId": "53dc622a-d7c5-445d-eb7b-975e9935bb94"
   },
   "outputs": [
    {
     "data": {
      "image/png": "[encoded data removed]",
      "text/plain": [
       "<Figure size 1152x864 with 1 Axes>"
      ]
     },
     "metadata": {
      "tags": []
     },
     "output_type": "display_data"
    },
    {
     "data": {
      "image/png": "[encoded data removed]",
      "text/plain": [
       "<Figure size 1152x864 with 1 Axes>"
      ]
     },
     "metadata": {
      "tags": []
     },
     "output_type": "display_data"
    }
   ],
   "source": [
    "value_bs = 4.77897\n",
    "\n",
    "# plot results\n",
    "simulations = sim_steps\n",
    "plt.figure(figsize=(16,12))\n",
    "plt.plot(simulations, prices, linewidth=1.5, color='red', label='Option value given by MC')\n",
    "plt.plot(simulations, [value_bs for i in simulations], color='blue', linewidth=1.5, alpha=1,\n",
    "         label='Option value from Black-Scholes formula')\n",
    "plt.title('Number of simulations against put option price')\n",
    "plt.xlabel('Number of paths')\n",
    "plt.ylabel('Put option price')\n",
    "plt.legend()\n",
    "plt.show()\n",
    "\n",
    "plt.figure(figsize=(16,12))\n",
    "plt.plot(sim_steps, std_errors, linewidth=1.5, color='r')\n",
    "plt.title('Number of simulations against standard error of MC estimate')\n",
    "plt.xlabel('Number of paths')\n",
    "plt.ylabel('Standard error of MC estimate')\n",
    "plt.show()"
   ]
  },
  {
   "cell_type": "markdown",
   "metadata": {
    "colab_type": "text",
    "id": "xY--QhsqeT42"
   },
   "source": [
    "#### Subsection 3: Perform numerical tests for varying values for the strike and the volatility parameter\n",
    "- Perform numerical tests for varying values for the strike and the volatility parameter. What is the standard error of your estimate and what does this tell you about the accuracy?"
   ]
  },
  {
   "cell_type": "code",
   "execution_count": 7,
   "metadata": {
    "colab": {
     "base_uri": "https://localhost:8080/",
     "height": 34
    },
    "colab_type": "code",
    "id": "zGSvuJeteT44",
    "outputId": "3e4cb292-656b-4751-83c8-e44bff87bbbc"
   },
   "outputs": [
    {
     "name": "stderr",
     "output_type": "stream",
     "text": [
      "100%|██████████| 80/80 [00:07<00:00, 10.96it/s]\n"
     ]
    }
   ],
   "source": [
    "# Perform numerical test for varying values for the strike and the volatility parameter\n",
    "S = 100\n",
    "v = 0.2\n",
    "r = 0.06\n",
    "T = 1\n",
    "K = 99\n",
    "sim = 1000000\n",
    "\n",
    "# Set strike low and high\n",
    "strike_low = 60\n",
    "strike_high = 140\n",
    "strikes = np.arange(strike_low, strike_high)\n",
    "\n",
    "# simulate for each strike price (1000 times)\n",
    "prices = []\n",
    "std_errors = []\n",
    "for strike in tqdm(strikes):\n",
    "    price, std_error = montecarlo_simulation_put(S, v, r, T, strike, sim)\n",
    "    prices.append(price)\n",
    "    std_errors.append(std_error)"
   ]
  },
  {
   "cell_type": "code",
   "execution_count": 9,
   "metadata": {
    "colab": {
     "base_uri": "https://localhost:8080/",
     "height": 707
    },
    "colab_type": "code",
    "id": "cVwNvRRNZXmL",
    "outputId": "0929aa90-96e7-4074-d6c7-cc65d5a7e10b"
   },
   "outputs": [
    {
     "data": {
      "image/png": "[encoded data removed]",
      "text/plain": [
       "<Figure size 576x396 with 1 Axes>"
      ]
     },
     "metadata": {
      "tags": []
     },
     "output_type": "display_data"
    },
    {
     "data": {
      "image/png": "[encoded data removed]",
      "text/plain": [
       "<Figure size 576x396 with 1 Axes>"
      ]
     },
     "metadata": {
      "tags": []
     },
     "output_type": "display_data"
    }
   ],
   "source": [
    "# plot results\n",
    "plt.figure()\n",
    "plt.plot(strikes, prices)\n",
    "plt.title('Average price against strike price')\n",
    "plt.xlabel('Strike price')\n",
    "plt.ylabel('Put option price')\n",
    "plt.show()\n",
    "\n",
    "\n",
    "plt.figure()\n",
    "plt.plot(strikes, std_errors)\n",
    "plt.title('Standard error against strike price')\n",
    "plt.xlabel('Strike price')\n",
    "plt.ylabel('Standard error')\n",
    "plt.show()"
   ]
  },
  {
   "cell_type": "code",
   "execution_count": 10,
   "metadata": {
    "colab": {
     "base_uri": "https://localhost:8080/",
     "height": 34
    },
    "colab_type": "code",
    "id": "m_m8Dmf6ZYGQ",
    "outputId": "3c21fcac-c397-46e1-9bc0-ed26e9387eb6"
   },
   "outputs": [
    {
     "name": "stderr",
     "output_type": "stream",
     "text": [
      "100%|██████████| 50/50 [00:04<00:00, 10.55it/s]\n"
     ]
    }
   ],
   "source": [
    "# Perform numerical test for varying values of volatility parameter\n",
    "S = 100\n",
    "v = 0.2\n",
    "r = 0.06\n",
    "T = 1\n",
    "K = 99\n",
    "sim = 1000000\n",
    "\n",
    "# Set volatility low and high for testing\n",
    "volatilities = np.linspace(0.01, 1, 50)\n",
    "\n",
    "prices_vol = []\n",
    "std_errors_vol = []\n",
    "for vol in tqdm(volatilities):\n",
    "    price, std_error = montecarlo_simulation_put(S, vol, r, T, K, sim)\n",
    "    prices_vol.append(price)\n",
    "    std_errors_vol.append(std_error)"
   ]
  },
  {
   "cell_type": "code",
   "execution_count": 12,
   "metadata": {
    "colab": {
     "base_uri": "https://localhost:8080/",
     "height": 735
    },
    "colab_type": "code",
    "id": "7Zx9jXkOZkJq",
    "outputId": "e7d60ff5-062e-46a9-a663-a05fa77ddd55"
   },
   "outputs": [
    {
     "data": {
      "image/png": "[encoded data removed]",
      "text/plain": [
       "<Figure size 576x396 with 1 Axes>"
      ]
     },
     "metadata": {
      "tags": []
     },
     "output_type": "display_data"
    },
    {
     "data": {
      "image/png": "[encoded data removed]",
      "text/plain": [
       "<Figure size 576x396 with 1 Axes>"
      ]
     },
     "metadata": {
      "tags": []
     },
     "output_type": "display_data"
    }
   ],
   "source": [
    "plt.figure()\n",
    "plt.plot(volatilities, prices_vol)\n",
    "plt.title('Average price against volatility')\n",
    "plt.xlabel('Volatility')\n",
    "plt.ylabel('Put option price')\n",
    "plt.show()\n",
    "\n",
    "plt.figure()\n",
    "plt.plot(volatilities, std_errors_vol)\n",
    "plt.title('Standard error against volatility')\n",
    "plt.xlabel('Volatility')\n",
    "plt.ylabel('Standard error')\n",
    "plt.show()"
   ]
  },
  {
   "cell_type": "markdown",
   "metadata": {
    "colab_type": "text",
    "id": "iXUFjnQujT9t"
   },
   "source": [
    "## Part 2: Estimation of sensitivities in MC"
   ]
  },
  {
   "cell_type": "markdown",
   "metadata": {
    "colab_type": "text",
    "id": "pMxyE-DDMXu7"
   },
   "source": [
    "#### Subsection 1\n",
    "\n",
    "Calculate the δ by applying the following methods:\n",
    "\n",
    "- Use different seeds for the bumped and unbumped estimate of the value;\n",
    "    T Z (2)\n",
    "  \n",
    "- Use the same seed for the bumped and unbumped estimate of the value;\n",
    "\n",
    "Compare your results which the values obtained in Assignment I."
   ]
  },
  {
   "cell_type": "code",
   "execution_count": 0,
   "metadata": {
    "colab": {},
    "colab_type": "code",
    "id": "C--HSolbeT5O"
   },
   "outputs": [],
   "source": [
    "S = 100\n",
    "v = 0.2\n",
    "r = 0.06\n",
    "T = 1\n",
    "K = 99\n",
    "sim = 100000\n",
    "\n",
    "sim_sizes = [10**i for i in [4, 5, 6, 7]]\n",
    "epsilons = [0.01, 0.02, 0.5]\n",
    "\n",
    "true_put_delta = -0.32626"
   ]
  },
  {
   "cell_type": "code",
   "execution_count": 14,
   "metadata": {
    "colab": {
     "base_uri": "https://localhost:8080/",
     "height": 714
    },
    "colab_type": "code",
    "id": "4uR9OoKI3boC",
    "outputId": "c09caf1b-1a96-4309-9ae2-63056b2b05e5"
   },
   "outputs": [
    {
     "name": "stdout",
     "output_type": "stream",
     "text": [
      "DIFFERENT SEEDS (8500 and 9000)\n",
      "\n",
      "Epsilon: 0.01  - Paths: 10000\n",
      "Delta estimate: -0.3363   Relative error: 3.0821%\n",
      "3.08\\% (-0.336)\n",
      "Epsilon: 0.01  - Paths: 100000\n",
      "Delta estimate: 3.7295   Relative error: -1243.1055%\n",
      "-1243.11\\% (3.729)\n",
      "Epsilon: 0.01  - Paths: 1000000\n",
      "Delta estimate: -0.0258   Relative error: -92.1007%\n",
      "-92.10\\% (-0.026)\n",
      "Epsilon: 0.01  - Paths: 10000000\n",
      "Delta estimate: -0.2446   Relative error: -25.0360%\n",
      "-25.04\\% (-0.245)\n",
      "\n",
      "Epsilon: 0.02  - Paths: 10000\n",
      "Delta estimate: -0.3331   Relative error: 2.1072%\n",
      "2.11\\% (-0.333)\n",
      "Epsilon: 0.02  - Paths: 100000\n",
      "Delta estimate: 1.7018   Relative error: -621.6052%\n",
      "-621.61\\% (1.702)\n",
      "Epsilon: 0.02  - Paths: 1000000\n",
      "Delta estimate: -0.1757   Relative error: -46.1553%\n",
      "-46.16\\% (-0.176)\n",
      "Epsilon: 0.02  - Paths: 10000000\n",
      "Delta estimate: -0.2853   Relative error: -12.5693%\n",
      "-12.57\\% (-0.285)\n",
      "\n",
      "Epsilon: 0.5  - Paths: 10000\n",
      "Delta estimate: -0.3261   Relative error: -0.0433%\n",
      "-0.04\\% (-0.326)\n",
      "Epsilon: 0.5  - Paths: 100000\n",
      "Delta estimate: -0.2407   Relative error: -26.2120%\n",
      "-26.21\\% (-0.241)\n",
      "Epsilon: 0.5  - Paths: 1000000\n",
      "Delta estimate: -0.3154   Relative error: -3.3413%\n",
      "-3.34\\% (-0.315)\n",
      "Epsilon: 0.5  - Paths: 10000000\n",
      "Delta estimate: -0.3201   Relative error: -1.8957%\n",
      "-1.90\\% (-0.320)\n",
      "\n"
     ]
    }
   ],
   "source": [
    "seed_1 = 8500\n",
    "seed_2 = 9000\n",
    "    \n",
    "print(\"DIFFERENT SEEDS (8500 and 9000)\\n\")\n",
    "for e in epsilons:    \n",
    "    for sim in sim_sizes:\n",
    "        print('Epsilon: {}  - Paths: {}'.format(e, sim))\n",
    "        price, _ = montecarlo_simulation_put(S, v, r, T, K, sim, seed_1)\n",
    "        price_e, _ = montecarlo_simulation_put(S + e, v, r, T, K, sim, seed_2)\n",
    "        delta = (price_e - price) / e\n",
    "        error = (delta / true_put_delta - 1) * 100\n",
    "        print('Delta estimate: %.4f' % delta, end='   ')\n",
    "        print('Relative error: %.4f%%' % error)\n",
    "        print('%.2f\\%% (%.3f)' % (error, delta))\n",
    "    print('')"
   ]
  },
  {
   "cell_type": "code",
   "execution_count": 15,
   "metadata": {
    "colab": {
     "base_uri": "https://localhost:8080/",
     "height": 714
    },
    "colab_type": "code",
    "id": "ieDUj98_3XpC",
    "outputId": "26773fa6-b034-4634-e94d-bd7460ff9dd4"
   },
   "outputs": [
    {
     "name": "stdout",
     "output_type": "stream",
     "text": [
      "SAME SEED (8700)\n",
      "\n",
      "Epsilon: 0.01  - Paths: 10000\n",
      "Delta estimate: -0.3167   Relative error: -2.9199%\n",
      "-2.920\\% (-0.3167)\n",
      "Epsilon: 0.01  - Paths: 100000\n",
      "Delta estimate: -0.3247   Relative error: -0.4657%\n",
      "-0.466\\% (-0.3247)\n",
      "Epsilon: 0.01  - Paths: 1000000\n",
      "Delta estimate: -0.3262   Relative error: -0.0091%\n",
      "-0.009\\% (-0.3262)\n",
      "Epsilon: 0.01  - Paths: 10000000\n",
      "Delta estimate: -0.3262   Relative error: -0.0150%\n",
      "-0.015\\% (-0.3262)\n",
      "\n",
      "Epsilon: 0.02  - Paths: 10000\n",
      "Delta estimate: -0.3166   Relative error: -2.9511%\n",
      "-2.951\\% (-0.3166)\n",
      "Epsilon: 0.02  - Paths: 100000\n",
      "Delta estimate: -0.3246   Relative error: -0.4959%\n",
      "-0.496\\% (-0.3246)\n",
      "Epsilon: 0.02  - Paths: 1000000\n",
      "Delta estimate: -0.3261   Relative error: -0.0357%\n",
      "-0.036\\% (-0.3261)\n",
      "Epsilon: 0.02  - Paths: 10000000\n",
      "Delta estimate: -0.3261   Relative error: -0.0422%\n",
      "-0.042\\% (-0.3261)\n",
      "\n",
      "Epsilon: 0.5  - Paths: 10000\n",
      "Delta estimate: -0.3119   Relative error: -4.4088%\n",
      "-4.409\\% (-0.3119)\n",
      "Epsilon: 0.5  - Paths: 100000\n",
      "Delta estimate: -0.3201   Relative error: -1.8862%\n",
      "-1.886\\% (-0.3201)\n",
      "Epsilon: 0.5  - Paths: 1000000\n",
      "Delta estimate: -0.3218   Relative error: -1.3584%\n",
      "-1.358\\% (-0.3218)\n",
      "Epsilon: 0.5  - Paths: 10000000\n",
      "Delta estimate: -0.3218   Relative error: -1.3628%\n",
      "-1.363\\% (-0.3218)\n",
      "\n"
     ]
    }
   ],
   "source": [
    "seed = 8700\n",
    "\n",
    "print(\"SAME SEED (8700)\\n\")\n",
    "for e in epsilons:\n",
    "    for sim in sim_sizes:\n",
    "        print('Epsilon: {}  - Paths: {}'.format(e, sim))\n",
    "        price, _ = montecarlo_simulation_put(S, v, r, T, K, sim, seed)\n",
    "        price_e, _ = montecarlo_simulation_put(S + e, v, r, T, K, sim, seed)\n",
    "        delta = (price_e - price) / e\n",
    "        error = (delta / true_put_delta - 1) * 100\n",
    "        print('Delta estimate: %.4f' % delta, end='   ')\n",
    "        print('Relative error: %.4f%%' % error)\n",
    "        print('%.3f\\%% (%.4f)' % (error, delta))\n",
    "    print('')"
   ]
  },
  {
   "cell_type": "markdown",
   "metadata": {
    "colab_type": "text",
    "id": "fKtvyve_VebG"
   },
   "source": [
    "#### Subsection 2\n",
    "\n",
    "Consider a digital option which pays 1 euro if the stock price at expiry is higher than the strike and otherwise nothing. Calculate the hedge parameter δ using the method used in 1. Explain your results and use the sophisticated methods discussed in the lectures to improve your results.\n"
   ]
  },
  {
   "cell_type": "code",
   "execution_count": 0,
   "metadata": {
    "colab": {},
    "colab_type": "code",
    "id": "f9_IpDEJZtrJ"
   },
   "outputs": [],
   "source": [
    "def montecarlo_simulation_binary(S, v, r, T, K, sim, seed=None):\n",
    "    \"\"\"\n",
    "    Run Monte Carlo simulation to estimate call option prices for digital options.\n",
    "    \n",
    "    S: price at time t\n",
    "    v: volatility\n",
    "    r: risk-free-rate\n",
    "    T: annualised expiry time (in years)\n",
    "    K: strike price\n",
    "    sim: amount of simulations per estimated option price\n",
    "    seed: default = None\n",
    "    \"\"\"\n",
    "    if seed is not None:\n",
    "        np.random.seed(seed)\n",
    "        \n",
    "    # Compute stock prices at time T using geometric Brownian motion\n",
    "    prices = S * np.exp((r - 0.5 * v**2) * T + v * np.sqrt(T) * np.random.normal(size=sim))\n",
    "    \n",
    "    # Determine payoffs\n",
    "    payoffs = prices - K\n",
    "    payoffs[payoffs < 0] = 0\n",
    "    payoffs[payoffs > 0] = 1\n",
    "    \n",
    "    # Compute MC estimate and standard error\n",
    "    price = math.exp(-r * T) * payoffs.mean()\n",
    "    std_error = payoffs.std() / math.sqrt(sim)\n",
    "    \n",
    "    return price, std_error"
   ]
  },
  {
   "cell_type": "code",
   "execution_count": 0,
   "metadata": {
    "colab": {},
    "colab_type": "code",
    "id": "D9nfRZ1KVu9e"
   },
   "outputs": [],
   "source": [
    "S = 100\n",
    "v = 0.2\n",
    "r = 0.06\n",
    "T = 1\n",
    "K = 99\n",
    "sim = 100000\n",
    "\n",
    "sim_sizes = [10**i for i in [4, 5, 6, 7]]\n",
    "epsilons = [0.01, 0.02, 0.5]\n",
    "\n",
    "true_binary_delta = 0.01821"
   ]
  },
  {
   "cell_type": "code",
   "execution_count": 18,
   "metadata": {
    "colab": {
     "base_uri": "https://localhost:8080/",
     "height": 714
    },
    "colab_type": "code",
    "id": "826QuFqu3mOC",
    "outputId": "bf9306e1-a78c-4b03-800e-14a7cbd6b3b3"
   },
   "outputs": [
    {
     "name": "stdout",
     "output_type": "stream",
     "text": [
      "SAME SEED (52)\n",
      "\n",
      "Epsilon: 0.01  - Paths: 10000\n",
      "Delta estimate: 0.0188   Relative error: 3.4338%\n",
      "3.434\\% (0.0188)\n",
      "Epsilon: 0.01  - Paths: 100000\n",
      "Delta estimate: 0.0151   Relative error: -17.2530%\n",
      "-17.253\\% (0.0151)\n",
      "Epsilon: 0.01  - Paths: 1000000\n",
      "Delta estimate: 0.0179   Relative error: -1.7379%\n",
      "-1.738\\% (0.0179)\n",
      "Epsilon: 0.01  - Paths: 10000000\n",
      "Delta estimate: 0.0177   Relative error: -2.6688%\n",
      "-2.669\\% (0.0177)\n",
      "\n",
      "Epsilon: 0.02  - Paths: 10000\n",
      "Delta estimate: 0.0188   Relative error: 3.4338%\n",
      "3.434\\% (0.0188)\n",
      "Epsilon: 0.02  - Paths: 100000\n",
      "Delta estimate: 0.0146   Relative error: -19.8388%\n",
      "-19.839\\% (0.0146)\n",
      "Epsilon: 0.02  - Paths: 1000000\n",
      "Delta estimate: 0.0177   Relative error: -2.7723%\n",
      "-2.772\\% (0.0177)\n",
      "Epsilon: 0.02  - Paths: 10000000\n",
      "Delta estimate: 0.0178   Relative error: -2.2292%\n",
      "-2.229\\% (0.0178)\n",
      "\n",
      "Epsilon: 0.5  - Paths: 10000\n",
      "Delta estimate: 0.0183   Relative error: 0.3308%\n",
      "0.331\\% (0.0183)\n",
      "Epsilon: 0.5  - Paths: 100000\n",
      "Delta estimate: 0.0176   Relative error: -3.4963%\n",
      "-3.496\\% (0.0176)\n",
      "Epsilon: 0.5  - Paths: 1000000\n",
      "Delta estimate: 0.0177   Relative error: -2.5344%\n",
      "-2.534\\% (0.0177)\n",
      "Epsilon: 0.5  - Paths: 10000000\n",
      "Delta estimate: 0.0181   Relative error: -0.7294%\n",
      "-0.729\\% (0.0181)\n",
      "\n"
     ]
    }
   ],
   "source": [
    "seed = 52\n",
    "\n",
    "print(\"SAME SEED (52)\\n\")\n",
    "for e in epsilons:\n",
    "    for sim in sim_sizes:\n",
    "        print('Epsilon: {}  - Paths: {}'.format(e, sim))\n",
    "        price, _ = montecarlo_simulation_binary(S, v, r, T, K, sim, seed)\n",
    "        price_e, _ = montecarlo_simulation_binary(S + e, v, r, T, K, sim, seed)\n",
    "        delta = (price_e - price) / e\n",
    "        error = (delta / true_binary_delta - 1) * 100\n",
    "        print('Delta estimate: %.4f' % delta, end='   ')\n",
    "        print('Relative error: %.4f%%' % error)\n",
    "        print('%.3f\\%% (%.4f)' % (error, delta))\n",
    "    print('')"
   ]
  },
  {
   "cell_type": "code",
   "execution_count": 0,
   "metadata": {
    "colab": {},
    "colab_type": "code",
    "id": "yqggY_L6I5By"
   },
   "outputs": [],
   "source": [
    "def montecarlo_simulation_binary_likelihood(S, v, r, T, K, sim, seed=None):\n",
    "    \"\"\"\n",
    "    Run Monte Carlo simulation to estimate delta value for digital option\n",
    "    \n",
    "    S: price at time t\n",
    "    v: volatility\n",
    "    r: risk-free-rate\n",
    "    T: annualised expiry time (in years)\n",
    "    K: strike price\n",
    "    sim: amount of simulations per estimated option price\n",
    "    seed: default = None\n",
    "    \"\"\"\n",
    "    if seed is not None:\n",
    "        np.random.seed(seed)\n",
    "        \n",
    "    # Compute stock prices at time T using geometric Brownian motion\n",
    "    rnd = np.random.normal(size=sim)\n",
    "    \n",
    "    prices = S * np.exp((r - 0.5 * v**2) * T + v * np.sqrt(T) * rnd)\n",
    "    \n",
    "    # Determine payoffs\n",
    "    payoffs = prices - K\n",
    "    payoffs[payoffs < 0] = 0\n",
    "    payoffs[payoffs > 0] = 1\n",
    "    \n",
    "    # Determine deltas\n",
    "    deltas = math.exp(-r * T) * payoffs * rnd / (v * S * math.sqrt(T))\n",
    "    \n",
    "    # Average deltas\n",
    "    delta = deltas.mean()\n",
    "    \n",
    "    return delta"
   ]
  },
  {
   "cell_type": "code",
   "execution_count": 21,
   "metadata": {
    "colab": {
     "base_uri": "https://localhost:8080/",
     "height": 221
    },
    "colab_type": "code",
    "id": "pEMzpAhsPE3G",
    "outputId": "a3867fe4-63ab-4ea5-e05a-55eb9c92d46f"
   },
   "outputs": [
    {
     "name": "stdout",
     "output_type": "stream",
     "text": [
      "Paths: 10000\n",
      "Delta estimate: 0.0185   Relative error: 1.5109%\n",
      "1.511\\% (0.0185)\n",
      "Paths: 100000\n",
      "Delta estimate: 0.0181   Relative error: -0.6046%\n",
      "-0.605\\% (0.0181)\n",
      "Paths: 1000000\n",
      "Delta estimate: 0.0182   Relative error: -0.1589%\n",
      "-0.159\\% (0.0182)\n",
      "Paths: 10000000\n",
      "Delta estimate: 0.0182   Relative error: -0.1176%\n",
      "-0.118\\% (0.0182)\n"
     ]
    }
   ],
   "source": [
    "S = 100\n",
    "v = 0.2\n",
    "r = 0.06\n",
    "T = 1\n",
    "K = 99\n",
    "true_binary_delta = 0.01821\n",
    "\n",
    "sim_sizes = [10**i for i in [4, 5, 6, 7]]\n",
    "\n",
    "for sim in sim_sizes:\n",
    "    print('Paths: {}'.format(sim))\n",
    "    delta = montecarlo_simulation_binary_likelihood(S, v, r, T, K, sim)\n",
    "    error = (delta / true_binary_delta - 1) * 100\n",
    "    print('Delta estimate: %.4f' % delta, end='   ')\n",
    "    print('Relative error: %.4f%%' % error)\n",
    "    print('%.3f\\%% (%.4f)' % (error, delta))"
   ]
  },
  {
   "cell_type": "markdown",
   "metadata": {
    "colab_type": "text",
    "id": "FmVt45_c4V9f"
   },
   "source": [
    "## Part 3: Variance reduction\n",
    "\n"
   ]
  },
  {
   "cell_type": "code",
   "execution_count": 0,
   "metadata": {
    "colab": {},
    "colab_type": "code",
    "id": "YT0c-0qe1JAW"
   },
   "outputs": [],
   "source": [
    "def compute_asian_BS(S, v, r, T, K, N): \n",
    "    \"\"\"\n",
    "    Compute call option price for Asian option using Black-Scholes formula\n",
    "    \n",
    "    S: price at time t\n",
    "    v: volatility\n",
    "    r: risk-free-rate\n",
    "    T: annualised expiry time (in years)\n",
    "    K: strike price\n",
    "    N: periods for stock price average\n",
    "    \"\"\"\n",
    "    # Compute parameters of ln(geometric mean), normal distribution\n",
    "    mean = math.log(S) + (r - v**2 / 2) * (N+1) / (2*N) * T\n",
    "    var = v**2 * T * (N+1) * (2*N + 1) / (6 * N**2)\n",
    "    stdev = math.sqrt(var)\n",
    "    \n",
    "    # Compute expectation of geometric mean (lognomral distribution)\n",
    "    E_An = math.exp(mean + var / 2)\n",
    "    \n",
    "    # Apply BS formulas for d1, d2 and call price\n",
    "    d1 = (math.log(E_An / K) + var / 2) / stdev\n",
    "    d2 = (math.log(E_An / K) - var / 2) / stdev\n",
    "    \n",
    "    return math.exp(-r*T) * (E_An * norm.cdf(d1) - K * norm.cdf(d2))"
   ]
  },
  {
   "cell_type": "code",
   "execution_count": 0,
   "metadata": {
    "colab": {},
    "colab_type": "code",
    "id": "IRmWlvbFyVc9"
   },
   "outputs": [],
   "source": [
    "def montecarlo_simulation_asian_geometric(S, v, r, T, K, N, sim, seed=None):\n",
    "    \"\"\"\n",
    "    Run Monte Carlo simulation to estimate call option prices for Asian options\n",
    "    -> based on geometric average of N stock prices between [0, T]\n",
    "    \n",
    "    S: price at time t\n",
    "    v: volatility\n",
    "    r: risk-free-rate\n",
    "    T: annualised expiry time (in years)\n",
    "    K: strike price\n",
    "    N: periods for stock price average\n",
    "    sim: amount of simulations per estimated option price\n",
    "    seed: default = None\n",
    "    \"\"\"\n",
    "    if seed is not None:\n",
    "        np.random.seed(seed)\n",
    "    \n",
    "    dt = T / N\n",
    "    \n",
    "    prices = np.zeros(shape=(sim, N+1))\n",
    "    prices[:, 0] = S\n",
    "    \n",
    "    for i in range(1, N+1):\n",
    "        eps = np.random.normal(size=(sim))\n",
    "        prices[:, i] = prices[:, i-1] * np.exp((r - 0.5 * v**2) * dt + v * np.sqrt(dt) * eps)\n",
    "\n",
    "    prices = prices[:, 1:]\n",
    "    \n",
    "    payoffs = gmean(prices, axis=1) - K\n",
    "    payoffs[payoffs < 0] = 0\n",
    "    \n",
    "    price = math.exp(-r * T) * payoffs.mean()\n",
    "    std_error = np.std(payoffs) / math.sqrt(sim)\n",
    "    \n",
    "    return price, std_error"
   ]
  },
  {
   "cell_type": "code",
   "execution_count": 24,
   "metadata": {
    "colab": {
     "base_uri": "https://localhost:8080/",
     "height": 85
    },
    "colab_type": "code",
    "id": "sBqqWZ-Dybip",
    "outputId": "bf0f47ee-3c38-419b-aa2a-6b40bfdc1373"
   },
   "outputs": [
    {
     "name": "stdout",
     "output_type": "stream",
     "text": [
      "Simulated price: 11.5507.   Std error: 0.0163\n",
      "Analytic value: 11.5443\n",
      "\n",
      "\n"
     ]
    }
   ],
   "source": [
    "S = 100\n",
    "v = 0.2\n",
    "r = 0.06\n",
    "T = 1\n",
    "K = 99\n",
    "N = 1\n",
    "sim = 1000000\n",
    "\n",
    "price, std_error = montecarlo_simulation_asian_geometric(S, v, r, T, K, N, sim)\n",
    "print('Simulated price: %.4f.   Std error: %.4f' % (price, std_error))\n",
    "print(\"Analytic value: %.4f\\n\\n\" % compute_asian_BS(S, v, r, T, K, N))"
   ]
  },
  {
   "cell_type": "code",
   "execution_count": 25,
   "metadata": {
    "colab": {
     "base_uri": "https://localhost:8080/",
     "height": 1122
    },
    "colab_type": "code",
    "id": "iAgJHOtktDNV",
    "outputId": "53139633-de49-4243-be4c-ecd85db50a1e"
   },
   "outputs": [
    {
     "name": "stdout",
     "output_type": "stream",
     "text": [
      "Price experiments\n",
      "Periods for averaging:  1 \n",
      "\n",
      "Simulated price: 11.5333.   Std error: 0.0162\n",
      "95% CI: [11.5015, 11.5651]\n",
      "Analytic value: 11.5443\n",
      "11.5333 & 0.0162 & [11.5015, 11.5651] & 11.5443 \\\\ \n",
      "\n",
      "\n",
      "Periods for averaging:  2 \n",
      "\n",
      "Simulated price: 8.8866.   Std error: 0.0123\n",
      "95% CI: [8.8625, 8.9107]\n",
      "Analytic value: 8.8781\n",
      "8.8866 & 0.0123 & [8.8625, 8.9107] & 8.8781 \\\\ \n",
      "\n",
      "\n",
      "Periods for averaging:  10 \n",
      "\n",
      "Simulated price: 6.8274.   Std error: 0.0093\n",
      "95% CI: [6.8092, 6.8457]\n",
      "Analytic value: 6.8358\n",
      "6.8274 & 0.0093 & [6.8092, 6.8457] & 6.8358 \\\\ \n",
      "\n",
      "\n",
      "Periods for averaging:  50 \n",
      "\n",
      "Simulated price: 6.4474.   Std error: 0.0088\n",
      "95% CI: [6.4303, 6.4646]\n",
      "Analytic value: 6.4351\n",
      "6.4474 & 0.0088 & [6.4303, 6.4646] & 6.4351 \\\\ \n",
      "\n",
      "\n",
      "Periods for averaging:  100 \n",
      "\n",
      "Simulated price: 6.3938.   Std error: 0.0087\n",
      "95% CI: [6.3768, 6.4109]\n",
      "Analytic value: 6.3851\n",
      "6.3938 & 0.0087 & [6.3768, 6.4109] & 6.3851 \\\\ \n",
      "\n",
      "\n",
      "Periods for averaging:  200 \n",
      "\n",
      "Simulated price: 6.3617.   Std error: 0.0086\n",
      "95% CI: [6.3448, 6.3786]\n",
      "Analytic value: 6.3602\n",
      "6.3617 & 0.0086 & [6.3448, 6.3786] & 6.3602 \\\\ \n",
      "\n",
      "\n",
      "Periods for averaging:  300 \n",
      "\n",
      "Simulated price: 6.3508.   Std error: 0.0086\n",
      "95% CI: [6.3339, 6.3677]\n",
      "Analytic value: 6.3519\n",
      "6.3508 & 0.0086 & [6.3339, 6.3677] & 6.3519 \\\\ \n",
      "\n",
      "\n",
      "Periods for averaging:  365 \n",
      "\n",
      "Simulated price: 6.3587.   Std error: 0.0086\n",
      "95% CI: [6.3418, 6.3756]\n",
      "Analytic value: 6.3489\n",
      "6.3587 & 0.0086 & [6.3418, 6.3756] & 6.3489 \\\\ \n",
      "\n",
      "\n"
     ]
    }
   ],
   "source": [
    "print('Price experiments')\n",
    "\n",
    "N_experiments = [1, 2, 10, 50, 100, 200, 300, 365]\n",
    "for N in N_experiments:\n",
    "    print('Periods for averaging: ', N, '\\n')\n",
    "\n",
    "    price, std_error = montecarlo_simulation_asian_geometric(S, v, r, T, K, N, sim)\n",
    "    price_bs = compute_asian_BS(S, v, r, T, K, N)\n",
    "    print('Simulated price: %.4f.   Std error: %.4f' % (price, std_error))\n",
    "    print(\"95%% CI: [%.4f, %.4f]\" %(price - 1.96 * std_error, price + 1.96 * std_error))\n",
    "    print(\"Analytic value: %.4f\" % price_bs)\n",
    "    print(\"%.4f & %.4f & [%.4f, %.4f] & %.4f \\\\\\\\ \\n\\n\" % (price, std_error,\n",
    "                                                    price - 1.96 * std_error,\n",
    "                                                    price + 1.96 * std_error,\n",
    "                                                    price_bs))"
   ]
  },
  {
   "cell_type": "markdown",
   "metadata": {
    "colab_type": "text",
    "id": "fOYPULfJP3Ov"
   },
   "source": [
    "#### Delta hedge parameter for Asian option"
   ]
  },
  {
   "cell_type": "code",
   "execution_count": 0,
   "metadata": {
    "colab": {},
    "colab_type": "code",
    "id": "708pc-ptP4wv"
   },
   "outputs": [],
   "source": [
    "def compute_asian_delta_bs(S, v, r, T, K, N):\n",
    "    \"\"\"\n",
    "    Compute value of delta hedging parameter for Asian option using Black-Scholes formula\n",
    "    \n",
    "    S: price at time t\n",
    "    v: volatility\n",
    "    r: risk-free-rate\n",
    "    T: annualised expiry time (in years)\n",
    "    K: strike price\n",
    "    N: periods for stock price average\n",
    "    \"\"\"\n",
    "    # Parameters of ln(geometric mean), normal distribution\n",
    "    mean = math.log(S) + (r - v**2 / 2) * (N+1) / (2*N) * T\n",
    "    var = v**2 * T * (N+1) * (2*N + 1) / (6 * N**2)\n",
    "    stdev = math.sqrt(var)\n",
    "    \n",
    "    # Get d1 and d2\n",
    "    d1 = (math.log(math.exp(mean + var / 2) / K) + var / 2) / stdev\n",
    "    d2 = (math.log(math.exp(mean + var / 2) / K) - var / 2) / stdev\n",
    "    \n",
    "    # Apply formula\n",
    "    first_term = math.exp(r*T*(1-N)/(2*N) + v**2*T*(1-N**2)/(12*N**2))\n",
    "    delta = first_term * norm.cdf(d1)\n",
    "    delta += first_term / (v/N*math.sqrt((N+1)*(2*N+1)*T/6)) * norm.pdf(d1)\n",
    "    delta -= K * math.exp(-r*T) * norm.pdf(d2) / (S*v/N*math.sqrt((N+1)*(2*N+1)*T/6))\n",
    "    \n",
    "    return delta"
   ]
  },
  {
   "cell_type": "code",
   "execution_count": 0,
   "metadata": {
    "colab": {},
    "colab_type": "code",
    "id": "nmIkV_kKQASS"
   },
   "outputs": [],
   "source": [
    "S = 100\n",
    "v = 0.2\n",
    "r = 0.06\n",
    "T = 1\n",
    "K = 99\n",
    "sim = 1000000\n",
    "e = 0.01"
   ]
  },
  {
   "cell_type": "code",
   "execution_count": 28,
   "metadata": {
    "colab": {
     "base_uri": "https://localhost:8080/",
     "height": 714
    },
    "colab_type": "code",
    "id": "oKFzUrK5QBZO",
    "outputId": "86b042a3-5632-4239-b53b-91936f608fb3"
   },
   "outputs": [
    {
     "name": "stdout",
     "output_type": "stream",
     "text": [
      "Delta experiments\n",
      "Periods for averaging:  1 \n",
      "\n",
      "Bump-and-revalue: 0.6747\n",
      "Analytic value: 0.6737\n",
      "Relative error: 0.1438%\n",
      "0.6747 & 0.6737 & 0.1438% \\\\ \n",
      "\n",
      "\n",
      "Periods for averaging:  50 \n",
      "\n",
      "Bump-and-revalue: 0.6258\n",
      "Analytic value: 0.6261\n",
      "Relative error: -0.0512%\n",
      "0.6258 & 0.6261 & -0.0512% \\\\ \n",
      "\n",
      "\n",
      "Periods for averaging:  100 \n",
      "\n",
      "Bump-and-revalue: 0.6257\n",
      "Analytic value: 0.6257\n",
      "Relative error: 0.0081%\n",
      "0.6257 & 0.6257 & 0.0081% \\\\ \n",
      "\n",
      "\n",
      "Periods for averaging:  200 \n",
      "\n",
      "Bump-and-revalue: 0.6255\n",
      "Analytic value: 0.6255\n",
      "Relative error: 0.0117%\n",
      "0.6255 & 0.6255 & 0.0117% \\\\ \n",
      "\n",
      "\n",
      "Periods for averaging:  365 \n",
      "\n",
      "Bump-and-revalue: 0.6249\n",
      "Analytic value: 0.6254\n",
      "Relative error: -0.0780%\n",
      "0.6249 & 0.6254 & -0.0780% \\\\ \n",
      "\n",
      "\n"
     ]
    }
   ],
   "source": [
    "print('Delta experiments')\n",
    "\n",
    "N_experiments = [1, 50, 100, 200, 365]\n",
    "for N in N_experiments:\n",
    "    print('Periods for averaging: ', N, '\\n')\n",
    "    \n",
    "    price, _ = montecarlo_simulation_asian_geometric(S, v, r, T, K, N, sim, 22)\n",
    "    price_e, _ = montecarlo_simulation_asian_geometric(S + e, v, r, T, K, N, sim, 22)\n",
    "    delta = (price_e - price) / e\n",
    "    \n",
    "    delta_bs = compute_asian_delta_bs(S, v, r, T, K, N)\n",
    "    \n",
    "    error = (delta / delta_bs - 1) * 100\n",
    "    print(\"Bump-and-revalue: %.4f\" % delta)\n",
    "    print(\"Analytic value: %.4f\" % delta_bs)\n",
    "    print('Relative error: %.4f%%' % error)\n",
    "    print(\"%.4f & %.4f & %.4f%% \\\\\\\\ \\n\\n\" % (delta, delta_bs, error))"
   ]
  },
  {
   "cell_type": "markdown",
   "metadata": {
    "colab_type": "text",
    "id": "L-0DxrHZQElx"
   },
   "source": [
    "#### Control Variate Technique"
   ]
  },
  {
   "cell_type": "code",
   "execution_count": 0,
   "metadata": {
    "colab": {},
    "colab_type": "code",
    "id": "wAvpnO3_QGdH"
   },
   "outputs": [],
   "source": [
    "def control_variate_asian(S, v, r, T, K, N, sim, seed=None):\n",
    "    \"\"\"\n",
    "    Run Control Variate technique to estimate call option prices for Asian options\n",
    "    -> based on arithmetic average of N stock prices between [0, T]\n",
    "    \n",
    "    S: price at time t\n",
    "    v: volatility\n",
    "    r: risk-free-rate\n",
    "    T: annualised expiry time (in years)\n",
    "    K: strike price\n",
    "    N: periods for stock price average\n",
    "    sim: amount of simulations per estimated option price\n",
    "    seed: default = None\n",
    "    \"\"\"\n",
    "    if seed is not None:\n",
    "        np.random.seed(seed)\n",
    "    \n",
    "    # Generate prices \n",
    "    dt = T / N\n",
    "    \n",
    "    prices = np.zeros(shape=(sim, N+1))\n",
    "    prices[:, 0] = S\n",
    "    \n",
    "    for i in range(1, N+1):\n",
    "        eps = np.random.normal(size=(sim))\n",
    "        prices[:, i] = prices[:, i-1] * np.exp((r - 0.5 * v**2) * dt + v * np.sqrt(dt) * eps)\n",
    "\n",
    "    prices = prices[:, 1:]\n",
    "    \n",
    "    # Payoffs for geometric average\n",
    "    geom_payoffs = gmean(prices, axis=1) - K\n",
    "    geom_payoffs[geom_payoffs < 0] = 0\n",
    "    \n",
    "    # Payoffs for arithmetic average\n",
    "    arith_payoffs = np.mean(prices, axis=1) - K\n",
    "    arith_payoffs[arith_payoffs < 0] = 0\n",
    "    \n",
    "    # Analytic price for geometric option\n",
    "    analytic_geometric = compute_asian_BS(S, v, r, T, K, N)\n",
    "    \n",
    "    # Control variate technique\n",
    "    optim_beta = np.corrcoef(arith_payoffs, geom_payoffs)[1, 0] * arith_payoffs.std() / geom_payoffs.std()\n",
    "    \n",
    "    mc_geometric = math.exp(-r*T) * geom_payoffs.mean()\n",
    "    mc_arithmetic = math.exp(-r*T) * arith_payoffs.mean()\n",
    "    \n",
    "    ctrl_var_arithmetic = mc_arithmetic - optim_beta * (mc_geometric - analytic_geometric)\n",
    "    \n",
    "    return ctrl_var_arithmetic, mc_arithmetic, analytic_geometric, mc_geometric"
   ]
  },
  {
   "cell_type": "code",
   "execution_count": 30,
   "metadata": {
    "colab": {
     "base_uri": "https://localhost:8080/",
     "height": 51
    },
    "colab_type": "code",
    "id": "C7wdcrTjQIjS",
    "outputId": "17492ffd-4da7-4563-f1ae-bc5df29f49f5"
   },
   "outputs": [
    {
     "name": "stdout",
     "output_type": "stream",
     "text": [
      "Control variate estimate:  7.0684415998493915\n",
      "MC estimate:  7.033951006312189\n"
     ]
    }
   ],
   "source": [
    "S = 100\n",
    "v = 0.2\n",
    "r = 0.06\n",
    "T = 1\n",
    "K = 99\n",
    "N = 10\n",
    "sim = 10000\n",
    "\n",
    "ctrl_var_a, mc_a, _, _ = control_variate_asian(S, v, r, T, K, N, sim)\n",
    "print('Control variate estimate: ', ctrl_var_a)\n",
    "print('MC estimate: ', mc_a)"
   ]
  },
  {
   "cell_type": "code",
   "execution_count": 0,
   "metadata": {
    "colab": {},
    "colab_type": "code",
    "id": "G4PPQa7EQUow"
   },
   "outputs": [],
   "source": [
    "def run_simulation(S, v, r, T, K, N, paths, run_times) -> (np.array, np.array):\n",
    "    variate_arith = []\n",
    "    mc_arith = []\n",
    "\n",
    "    for i in range(run_times):\n",
    "        ctr_var_a, mc_a, _, _ = control_variate_asian(S, v, r, T, K, N, paths)\n",
    "        variate_arith.append(ctr_var_a)\n",
    "        mc_arith.append(mc_a)\n",
    "        \n",
    "    variate_arith = np.array(variate_arith)\n",
    "    mc_arith = np.array(mc_arith)\n",
    "    \n",
    "    print('Run times: %i   Paths: %i' % (run_times, paths))\n",
    "    print('Control variate mean: ', variate_arith.mean())\n",
    "    print('Conrol variate std: ', variate_arith.std())\n",
    "    print('MC mean: ', mc_arith.mean())\n",
    "    print('MC std: ', mc_arith.std())\n",
    "    print('%i & %i & %.4f & %.4f & %.4f & %.4f \\\\\\\\ \\n' % (run_times, paths,\n",
    "                                                           variate_arith.mean(), variate_arith.std(),\n",
    "                                                           mc_arith.mean(), mc_arith.std()))\n",
    "    \n",
    "    return variate_arith, mc_arith"
   ]
  },
  {
   "cell_type": "code",
   "execution_count": 42,
   "metadata": {
    "colab": {
     "base_uri": "https://localhost:8080/",
     "height": 2397
    },
    "colab_type": "code",
    "id": "rSfxCF8KQWQN",
    "outputId": "5fd2fe6f-3de9-416a-c699-0e2a2b1a00ef"
   },
   "outputs": [
    {
     "name": "stdout",
     "output_type": "stream",
     "text": [
      "Run times: 20   Paths: 5000\n",
      "Control variate mean:  7.068457888921323\n",
      "Conrol variate std:  0.003803817570614737\n",
      "MC mean:  7.060238949651873\n",
      "MC std:  0.13331180173179977\n",
      "20 & 5000 & 7.0685 & 0.0038 & 7.0602 & 0.1333 \\\\ \n",
      "\n",
      "Run times: 20   Paths: 10000\n",
      "Control variate mean:  7.067146980805246\n",
      "Conrol variate std:  0.0026355091881456157\n",
      "MC mean:  7.111042140480423\n",
      "MC std:  0.09445621421538664\n",
      "20 & 10000 & 7.0671 & 0.0026 & 7.1110 & 0.0945 \\\\ \n",
      "\n",
      "Run times: 20   Paths: 15000\n",
      "Control variate mean:  7.068102492803057\n",
      "Conrol variate std:  0.002383244710038234\n",
      "MC mean:  7.068842709804019\n",
      "MC std:  0.064041427656751\n",
      "20 & 15000 & 7.0681 & 0.0024 & 7.0688 & 0.0640 \\\\ \n",
      "\n",
      "Run times: 20   Paths: 20000\n",
      "Control variate mean:  7.06807007289097\n",
      "Conrol variate std:  0.001473247080994134\n",
      "MC mean:  7.055911661987402\n",
      "MC std:  0.04884540436954357\n",
      "20 & 20000 & 7.0681 & 0.0015 & 7.0559 & 0.0488 \\\\ \n",
      "\n",
      "Run times: 20   Paths: 25000\n",
      "Control variate mean:  7.0676559373539884\n",
      "Conrol variate std:  0.0016547800747000099\n",
      "MC mean:  7.0608172947047665\n",
      "MC std:  0.07301885097416293\n",
      "20 & 25000 & 7.0677 & 0.0017 & 7.0608 & 0.0730 \\\\ \n",
      "\n",
      "Run times: 20   Paths: 30000\n",
      "Control variate mean:  7.066767954719104\n",
      "Conrol variate std:  0.0013959036971994865\n",
      "MC mean:  7.068661390391173\n",
      "MC std:  0.05521448498970275\n",
      "20 & 30000 & 7.0668 & 0.0014 & 7.0687 & 0.0552 \\\\ \n",
      "\n",
      "Run times: 20   Paths: 35000\n",
      "Control variate mean:  7.0677943394975715\n",
      "Conrol variate std:  0.001400897633384153\n",
      "MC mean:  7.062516805933214\n",
      "MC std:  0.046221752732897234\n",
      "20 & 35000 & 7.0678 & 0.0014 & 7.0625 & 0.0462 \\\\ \n",
      "\n",
      "Run times: 20   Paths: 40000\n",
      "Control variate mean:  7.067678661130236\n",
      "Conrol variate std:  0.0012949220891839538\n",
      "MC mean:  7.060996689374354\n",
      "MC std:  0.05771674661788772\n",
      "20 & 40000 & 7.0677 & 0.0013 & 7.0610 & 0.0577 \\\\ \n",
      "\n",
      "Run times: 20   Paths: 45000\n",
      "Control variate mean:  7.067416323880025\n",
      "Conrol variate std:  0.0009985224280896193\n",
      "MC mean:  7.055034694010352\n",
      "MC std:  0.04682791602357598\n",
      "20 & 45000 & 7.0674 & 0.0010 & 7.0550 & 0.0468 \\\\ \n",
      "\n",
      "Run times: 20   Paths: 50000\n",
      "Control variate mean:  7.067947897371293\n",
      "Conrol variate std:  0.0011465900090921407\n",
      "MC mean:  7.069274304069722\n",
      "MC std:  0.036506922221797286\n",
      "20 & 50000 & 7.0679 & 0.0011 & 7.0693 & 0.0365 \\\\ \n",
      "\n",
      "Run times: 20   Paths: 55000\n",
      "Control variate mean:  7.067760968881345\n",
      "Conrol variate std:  0.0006226046651528809\n",
      "MC mean:  7.072581210652001\n",
      "MC std:  0.03518962416399286\n",
      "20 & 55000 & 7.0678 & 0.0006 & 7.0726 & 0.0352 \\\\ \n",
      "\n",
      "Run times: 20   Paths: 60000\n",
      "Control variate mean:  7.067826653780257\n",
      "Conrol variate std:  0.00107097662827506\n",
      "MC mean:  7.063989599807654\n",
      "MC std:  0.024617375529964035\n",
      "20 & 60000 & 7.0678 & 0.0011 & 7.0640 & 0.0246 \\\\ \n",
      "\n",
      "Run times: 20   Paths: 65000\n",
      "Control variate mean:  7.0674129986404965\n",
      "Conrol variate std:  0.0007324959364439998\n",
      "MC mean:  7.06494846609673\n",
      "MC std:  0.035239929933897775\n",
      "20 & 65000 & 7.0674 & 0.0007 & 7.0649 & 0.0352 \\\\ \n",
      "\n",
      "Run times: 20   Paths: 70000\n",
      "Control variate mean:  7.067996240362151\n",
      "Conrol variate std:  0.0008999947676976133\n",
      "MC mean:  7.067605512983874\n",
      "MC std:  0.029347353753482297\n",
      "20 & 70000 & 7.0680 & 0.0009 & 7.0676 & 0.0293 \\\\ \n",
      "\n",
      "Run times: 20   Paths: 75000\n",
      "Control variate mean:  7.067786108001917\n",
      "Conrol variate std:  0.0008471530060364234\n",
      "MC mean:  7.076414997632464\n",
      "MC std:  0.026073738422807826\n",
      "20 & 75000 & 7.0678 & 0.0008 & 7.0764 & 0.0261 \\\\ \n",
      "\n",
      "Run times: 20   Paths: 80000\n",
      "Control variate mean:  7.067629579359405\n",
      "Conrol variate std:  0.0007884084776055464\n",
      "MC mean:  7.073441112884197\n",
      "MC std:  0.031421570228734125\n",
      "20 & 80000 & 7.0676 & 0.0008 & 7.0734 & 0.0314 \\\\ \n",
      "\n",
      "Run times: 20   Paths: 85000\n",
      "Control variate mean:  7.0676087493365145\n",
      "Conrol variate std:  0.0006784059244600686\n",
      "MC mean:  7.072974084512838\n",
      "MC std:  0.0342568865420949\n",
      "20 & 85000 & 7.0676 & 0.0007 & 7.0730 & 0.0343 \\\\ \n",
      "\n",
      "Run times: 20   Paths: 90000\n",
      "Control variate mean:  7.06786934601304\n",
      "Conrol variate std:  0.0009178265544348674\n",
      "MC mean:  7.054371959330885\n",
      "MC std:  0.034252414893792785\n",
      "20 & 90000 & 7.0679 & 0.0009 & 7.0544 & 0.0343 \\\\ \n",
      "\n",
      "Run times: 20   Paths: 95000\n",
      "Control variate mean:  7.067953097654389\n",
      "Conrol variate std:  0.0009267511512650267\n",
      "MC mean:  7.067828239358498\n",
      "MC std:  0.02577717441730358\n",
      "20 & 95000 & 7.0680 & 0.0009 & 7.0678 & 0.0258 \\\\ \n",
      "\n",
      "Run times: 20   Paths: 100000\n",
      "Control variate mean:  7.067644463753744\n",
      "Conrol variate std:  0.0008983175311013758\n",
      "MC mean:  7.061112896299993\n",
      "MC std:  0.029409801157708623\n",
      "20 & 100000 & 7.0676 & 0.0009 & 7.0611 & 0.0294 \\\\ \n",
      "\n"
     ]
    }
   ],
   "source": [
    "S = 100\n",
    "v = 0.2\n",
    "r = 0.06\n",
    "T = 1\n",
    "K = 99\n",
    "N = 10\n",
    "run_simulations = 20\n",
    "\n",
    "generate_paths_list = np.arange(0, 100000+1, 5000)[1:]\n",
    "\n",
    "ctrl_variate_means = []\n",
    "ctr_variate_errs = []\n",
    "mc_estimate_means = []\n",
    "mc_estimate_errs = []\n",
    "\n",
    "for no_paths in generate_paths_list:\n",
    "    ctrl_variate_result, mc_estimate_result = run_simulation(S, v, r, T, K, N, no_paths, run_simulations)\n",
    "    \n",
    "    ctrl_variate_means.append(ctrl_variate_result.mean())\n",
    "    ctr_variate_errs.append(ctrl_variate_result.std())\n",
    "    mc_estimate_means.append(mc_estimate_result.mean())\n",
    "    mc_estimate_errs.append(mc_estimate_result.std())\n"
   ]
  },
  {
   "cell_type": "code",
   "execution_count": 44,
   "metadata": {
    "colab": {
     "base_uri": "https://localhost:8080/",
     "height": 606
    },
    "colab_type": "code",
    "id": "gUaPl-NtQY-R",
    "outputId": "4ec3cd18-a81b-4a6b-a27f-d0651fda2c43"
   },
   "outputs": [
    {
     "data": {
      "image/png": "[encoded data removed]",
      "text/plain": [
       "<Figure size 1152x720 with 1 Axes>"
      ]
     },
     "metadata": {
      "tags": []
     },
     "output_type": "display_data"
    }
   ],
   "source": [
    "plt.figure(figsize=(16, 10))\n",
    "plt.errorbar(generate_paths_list, mc_estimate_means, yerr=mc_estimate_errs,\n",
    "             label='Monte Carlo estimates', elinewidth=1.5, capsize=7, alpha=0.8)\n",
    "plt.errorbar(generate_paths_list, ctrl_variate_means, yerr=ctr_variate_errs,\n",
    "             label='Control variate estimates', linewidth=2, elinewidth=2, capsize=7, color='r')\n",
    "plt.legend()\n",
    "plt.title('Control variate vs Monte Carlo')\n",
    "plt.xlabel('Number of generated paths')\n",
    "plt.ylabel('Option price estimate')\n",
    "plt.show()"
   ]
  }
 ],
 "metadata": {
  "colab": {
   "collapsed_sections": [],
   "name": "CF+Assignment+2.ipynb",
   "provenance": [],
   "version": "0.3.2"
  },
  "kernelspec": {
   "display_name": "Python 3",
   "language": "python",
   "name": "python3"
  },
  "language_info": {
   "codemirror_mode": {
    "name": "ipython",
    "version": 3
   },
   "file_extension": ".py",
   "mimetype": "text/x-python",
   "name": "python",
   "nbconvert_exporter": "python",
   "pygments_lexer": "ipython3",
   "version": "3.7.2"
  }
 },
 "nbformat": 4,
 "nbformat_minor": 1
}
